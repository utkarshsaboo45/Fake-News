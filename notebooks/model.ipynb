{
 "cells": [
  {
   "cell_type": "markdown",
   "id": "8e6deffe-9c9a-4a8b-8fb8-f2c2608fc4eb",
   "metadata": {},
   "source": [
    "# Fake News Classifier"
   ]
  },
  {
   "cell_type": "markdown",
   "id": "8729962c-4ce7-47d5-9c43-44f06b367537",
   "metadata": {},
   "source": [
    "### Data Reading and Interpretation"
   ]
  },
  {
   "cell_type": "markdown",
   "id": "4573692a-e238-4943-a9bc-d270a041a2f1",
   "metadata": {},
   "source": [
    "__Import Statements__"
   ]
  },
  {
   "cell_type": "code",
   "execution_count": 2,
   "id": "efc873ea-5618-4d36-804d-88a062312ede",
   "metadata": {},
   "outputs": [],
   "source": [
    "import pandas as pd\n",
    "import numpy as np\n"
   ]
  },
  {
   "cell_type": "code",
   "execution_count": 3,
   "id": "0e95dd17-6ad4-42fc-9745-a424d5690282",
   "metadata": {},
   "outputs": [],
   "source": [
    "train_df = pd.read_csv(\"../data/raw/train.csv\")"
   ]
  },
  {
   "cell_type": "code",
   "execution_count": 5,
   "id": "045b1674-2854-4308-a9a5-f482a86c4525",
   "metadata": {},
   "outputs": [
    {
     "name": "stdout",
     "output_type": "stream",
     "text": [
      "<class 'pandas.core.frame.DataFrame'>\n",
      "RangeIndex: 20800 entries, 0 to 20799\n",
      "Data columns (total 5 columns):\n",
      " #   Column  Non-Null Count  Dtype \n",
      "---  ------  --------------  ----- \n",
      " 0   id      20800 non-null  int64 \n",
      " 1   title   20242 non-null  object\n",
      " 2   author  18843 non-null  object\n",
      " 3   text    20761 non-null  object\n",
      " 4   label   20800 non-null  int64 \n",
      "dtypes: int64(2), object(3)\n",
      "memory usage: 812.6+ KB\n"
     ]
    }
   ],
   "source": [
    "train_df.info()"
   ]
  },
  {
   "cell_type": "code",
   "execution_count": 24,
   "id": "e96bebaf-f764-4e42-a1e2-0a190623a6b5",
   "metadata": {},
   "outputs": [
    {
     "data": {
      "text/plain": [
       "1      2615\n",
       "2       475\n",
       "3       217\n",
       "4       155\n",
       "5       109\n",
       "       ... \n",
       "72        1\n",
       "60        1\n",
       "65        1\n",
       "63        1\n",
       "243       1\n",
       "Name: author, Length: 89, dtype: int64"
      ]
     },
     "execution_count": 24,
     "metadata": {},
     "output_type": "execute_result"
    }
   ],
   "source": [
    "train_df[\"author\"].value_counts().value_counts()#.to_csv(\"temp.csv\")"
   ]
  },
  {
   "cell_type": "code",
   "execution_count": 40,
   "id": "81a0b970-b262-4c08-8628-e556fc09cada",
   "metadata": {},
   "outputs": [
    {
     "data": {
      "text/plain": [
       "1    39\n",
       "Name: label, dtype: int64"
      ]
     },
     "execution_count": 40,
     "metadata": {},
     "output_type": "execute_result"
    }
   ],
   "source": [
    "train_df.query(\"author == 'Guest'\")[\"label\"].value_counts()"
   ]
  },
  {
   "cell_type": "code",
   "execution_count": 82,
   "id": "69fa739e-4bf2-4cbd-8014-eb63cb5b6d6d",
   "metadata": {},
   "outputs": [
    {
     "data": {
      "text/plain": [
       "1    75\n",
       "Name: label, dtype: int64"
      ]
     },
     "execution_count": 82,
     "metadata": {},
     "output_type": "execute_result"
    }
   ],
   "source": [
    "# train_df.query(\"author.notnull()\")[\"label\"].value_counts()\n",
    "# train_df.query(\"author.notnull()\")[train_df.query(\"author.notnull()\")[\"author\"].str.contains(\"^[A-Z ]+$\")][\"label\"].value_counts()\n",
    "train_df.query(\"text == ' '\")[\"label\"].value_counts()"
   ]
  },
  {
   "cell_type": "code",
   "execution_count": 65,
   "id": "48e309e8-b105-476d-a357-cb973d1be4ec",
   "metadata": {},
   "outputs": [
    {
     "data": {
      "text/plain": [
       "id           0\n",
       "title      558\n",
       "author    1957\n",
       "text        39\n",
       "label        0\n",
       "dtype: int64"
      ]
     },
     "execution_count": 65,
     "metadata": {},
     "output_type": "execute_result"
    }
   ],
   "source": [
    "train_df.isnull().sum()"
   ]
  },
  {
   "cell_type": "code",
   "execution_count": 9,
   "id": "b7cbfcdd-d0fd-461e-8d2e-5f6b8af47e2f",
   "metadata": {},
   "outputs": [
    {
     "data": {
      "text/html": [
       "<div>\n",
       "<style scoped>\n",
       "    .dataframe tbody tr th:only-of-type {\n",
       "        vertical-align: middle;\n",
       "    }\n",
       "\n",
       "    .dataframe tbody tr th {\n",
       "        vertical-align: top;\n",
       "    }\n",
       "\n",
       "    .dataframe thead th {\n",
       "        text-align: right;\n",
       "    }\n",
       "</style>\n",
       "<table border=\"1\" class=\"dataframe\">\n",
       "  <thead>\n",
       "    <tr style=\"text-align: right;\">\n",
       "      <th></th>\n",
       "      <th>id</th>\n",
       "      <th>title</th>\n",
       "      <th>author</th>\n",
       "      <th>text</th>\n",
       "      <th>label</th>\n",
       "    </tr>\n",
       "  </thead>\n",
       "  <tbody>\n",
       "    <tr>\n",
       "      <th>count</th>\n",
       "      <td>20800.000000</td>\n",
       "      <td>20242</td>\n",
       "      <td>18843</td>\n",
       "      <td>20761</td>\n",
       "      <td>20800.000000</td>\n",
       "    </tr>\n",
       "    <tr>\n",
       "      <th>unique</th>\n",
       "      <td>NaN</td>\n",
       "      <td>19803</td>\n",
       "      <td>4201</td>\n",
       "      <td>20386</td>\n",
       "      <td>NaN</td>\n",
       "    </tr>\n",
       "    <tr>\n",
       "      <th>top</th>\n",
       "      <td>NaN</td>\n",
       "      <td>Get Ready For Civil Unrest: Survey Finds That ...</td>\n",
       "      <td>Pam Key</td>\n",
       "      <td></td>\n",
       "      <td>NaN</td>\n",
       "    </tr>\n",
       "    <tr>\n",
       "      <th>freq</th>\n",
       "      <td>NaN</td>\n",
       "      <td>5</td>\n",
       "      <td>243</td>\n",
       "      <td>75</td>\n",
       "      <td>NaN</td>\n",
       "    </tr>\n",
       "    <tr>\n",
       "      <th>mean</th>\n",
       "      <td>10399.500000</td>\n",
       "      <td>NaN</td>\n",
       "      <td>NaN</td>\n",
       "      <td>NaN</td>\n",
       "      <td>0.500625</td>\n",
       "    </tr>\n",
       "    <tr>\n",
       "      <th>std</th>\n",
       "      <td>6004.587135</td>\n",
       "      <td>NaN</td>\n",
       "      <td>NaN</td>\n",
       "      <td>NaN</td>\n",
       "      <td>0.500012</td>\n",
       "    </tr>\n",
       "    <tr>\n",
       "      <th>min</th>\n",
       "      <td>0.000000</td>\n",
       "      <td>NaN</td>\n",
       "      <td>NaN</td>\n",
       "      <td>NaN</td>\n",
       "      <td>0.000000</td>\n",
       "    </tr>\n",
       "    <tr>\n",
       "      <th>25%</th>\n",
       "      <td>5199.750000</td>\n",
       "      <td>NaN</td>\n",
       "      <td>NaN</td>\n",
       "      <td>NaN</td>\n",
       "      <td>0.000000</td>\n",
       "    </tr>\n",
       "    <tr>\n",
       "      <th>50%</th>\n",
       "      <td>10399.500000</td>\n",
       "      <td>NaN</td>\n",
       "      <td>NaN</td>\n",
       "      <td>NaN</td>\n",
       "      <td>1.000000</td>\n",
       "    </tr>\n",
       "    <tr>\n",
       "      <th>75%</th>\n",
       "      <td>15599.250000</td>\n",
       "      <td>NaN</td>\n",
       "      <td>NaN</td>\n",
       "      <td>NaN</td>\n",
       "      <td>1.000000</td>\n",
       "    </tr>\n",
       "    <tr>\n",
       "      <th>max</th>\n",
       "      <td>20799.000000</td>\n",
       "      <td>NaN</td>\n",
       "      <td>NaN</td>\n",
       "      <td>NaN</td>\n",
       "      <td>1.000000</td>\n",
       "    </tr>\n",
       "  </tbody>\n",
       "</table>\n",
       "</div>"
      ],
      "text/plain": [
       "                  id                                              title  \\\n",
       "count   20800.000000                                              20242   \n",
       "unique           NaN                                              19803   \n",
       "top              NaN  Get Ready For Civil Unrest: Survey Finds That ...   \n",
       "freq             NaN                                                  5   \n",
       "mean    10399.500000                                                NaN   \n",
       "std      6004.587135                                                NaN   \n",
       "min         0.000000                                                NaN   \n",
       "25%      5199.750000                                                NaN   \n",
       "50%     10399.500000                                                NaN   \n",
       "75%     15599.250000                                                NaN   \n",
       "max     20799.000000                                                NaN   \n",
       "\n",
       "         author   text         label  \n",
       "count     18843  20761  20800.000000  \n",
       "unique     4201  20386           NaN  \n",
       "top     Pam Key                  NaN  \n",
       "freq        243     75           NaN  \n",
       "mean        NaN    NaN      0.500625  \n",
       "std         NaN    NaN      0.500012  \n",
       "min         NaN    NaN      0.000000  \n",
       "25%         NaN    NaN      0.000000  \n",
       "50%         NaN    NaN      1.000000  \n",
       "75%         NaN    NaN      1.000000  \n",
       "max         NaN    NaN      1.000000  "
      ]
     },
     "execution_count": 9,
     "metadata": {},
     "output_type": "execute_result"
    }
   ],
   "source": [
    "train_df.describe(include='all')"
   ]
  },
  {
   "cell_type": "code",
   "execution_count": null,
   "id": "7625a8d8-da4f-472d-937b-f692a6cc6f72",
   "metadata": {},
   "outputs": [],
   "source": []
  },
  {
   "cell_type": "code",
   "execution_count": null,
   "id": "a96f4e90-c467-4ece-893d-76f08950723f",
   "metadata": {},
   "outputs": [],
   "source": []
  },
  {
   "cell_type": "markdown",
   "id": "62673d40-7482-4569-93c4-37e77a17d212",
   "metadata": {},
   "source": [
    "### Preprocessing"
   ]
  },
  {
   "cell_type": "code",
   "execution_count": null,
   "id": "49fe8d1a-9152-4587-8d89-cf5fc47947a1",
   "metadata": {},
   "outputs": [],
   "source": [
    "## Others category if value_counts of an author is less than 5\n",
    "\n"
   ]
  },
  {
   "cell_type": "code",
   "execution_count": null,
   "id": "b4adb788-5161-4ef8-9dc4-96fe72c0fb63",
   "metadata": {},
   "outputs": [],
   "source": [
    "## Change Author = Null to Author = \"Unknown\"\n",
    "\n"
   ]
  },
  {
   "cell_type": "code",
   "execution_count": 93,
   "id": "84f575df-4fcb-4539-8833-732ac1f8732e",
   "metadata": {},
   "outputs": [],
   "source": [
    "## Create a feature \"author_is_null\"\n",
    "\n"
   ]
  },
  {
   "cell_type": "code",
   "execution_count": null,
   "id": "234927c9-1730-4831-96cf-19d21b5f969d",
   "metadata": {},
   "outputs": [],
   "source": [
    "## Create a feature \"multiple_authors\"\n",
    "\n",
    "# train_df.query(\"author.notnull()\")[train_df.query(\"author.notnull()\")[\"author\"].str.contains(\" and \")][\"label\"].value_counts()"
   ]
  },
  {
   "cell_type": "code",
   "execution_count": null,
   "id": "55539f40-dafb-47d2-b0de-d4bb27983b46",
   "metadata": {},
   "outputs": [],
   "source": [
    "## Rows with .com/.org/etc\n",
    "\n",
    "# train_df.query(\"author.notnull()\")[train_df.query(\"author.notnull()\")[\"author\"].str.contains(\"\\.[a-zA-Z]{3}\")][\"label\"].value_counts()"
   ]
  },
  {
   "cell_type": "code",
   "execution_count": 92,
   "id": "4416f162-6ae2-4f3b-9b6b-0ed76d2b4aaa",
   "metadata": {},
   "outputs": [
    {
     "data": {
      "text/plain": [
       "1    75\n",
       "Name: label, dtype: int64"
      ]
     },
     "execution_count": 92,
     "metadata": {},
     "output_type": "execute_result"
    }
   ],
   "source": [
    "## Check if text is empty\n",
    "\n",
    "train_df.query(\"text == ' '\")[\"label\"].value_counts()"
   ]
  },
  {
   "cell_type": "code",
   "execution_count": null,
   "id": "ca65363a-61b9-42f0-ac16-2b2693450e42",
   "metadata": {},
   "outputs": [],
   "source": []
  },
  {
   "cell_type": "code",
   "execution_count": null,
   "id": "590515b7-8e51-4dde-9dba-b44a36306abf",
   "metadata": {},
   "outputs": [],
   "source": []
  },
  {
   "cell_type": "markdown",
   "id": "b0b07587-233d-48c9-8db2-23fb51e55639",
   "metadata": {},
   "source": [
    "#### Feature Engineering"
   ]
  },
  {
   "cell_type": "code",
   "execution_count": null,
   "id": "7ef11645-82e2-44d1-bacd-de9e8e6ef349",
   "metadata": {},
   "outputs": [],
   "source": []
  },
  {
   "cell_type": "code",
   "execution_count": null,
   "id": "3155ba4c-8c26-4430-90de-166728124cbc",
   "metadata": {},
   "outputs": [],
   "source": []
  },
  {
   "cell_type": "code",
   "execution_count": null,
   "id": "ef2799c0-ce86-46d5-a259-38d9c6bc6864",
   "metadata": {},
   "outputs": [],
   "source": []
  },
  {
   "cell_type": "code",
   "execution_count": null,
   "id": "5763876e-e584-4865-b898-6e74f480fa56",
   "metadata": {},
   "outputs": [],
   "source": []
  },
  {
   "cell_type": "code",
   "execution_count": null,
   "id": "e3a02c45-5c70-4965-ae03-12a30fef99d3",
   "metadata": {},
   "outputs": [],
   "source": []
  },
  {
   "cell_type": "markdown",
   "id": "b1d0bb81-ac6d-4ec7-9728-0de219a97db0",
   "metadata": {},
   "source": [
    "### Modelling"
   ]
  },
  {
   "cell_type": "code",
   "execution_count": null,
   "id": "78769ca3-1670-4808-83fa-02fdd48362ed",
   "metadata": {},
   "outputs": [],
   "source": []
  },
  {
   "cell_type": "code",
   "execution_count": null,
   "id": "49c042eb-d700-4b2b-bf52-10374e952650",
   "metadata": {},
   "outputs": [],
   "source": []
  },
  {
   "cell_type": "code",
   "execution_count": null,
   "id": "2a022c04-a208-4f51-8740-727183df048d",
   "metadata": {},
   "outputs": [],
   "source": []
  },
  {
   "cell_type": "code",
   "execution_count": null,
   "id": "1a3f7388-df84-4fb8-ad7a-a8200c369046",
   "metadata": {},
   "outputs": [],
   "source": []
  },
  {
   "cell_type": "code",
   "execution_count": null,
   "id": "ce2f7fda-3dba-41c2-beb3-f41c24d981d2",
   "metadata": {},
   "outputs": [],
   "source": []
  },
  {
   "cell_type": "code",
   "execution_count": null,
   "id": "55c17a2b-7890-4a36-8ab4-f6b4c2d00e07",
   "metadata": {},
   "outputs": [],
   "source": []
  },
  {
   "cell_type": "code",
   "execution_count": null,
   "id": "29343fa9-e3b0-4b47-b390-86454d81a3b4",
   "metadata": {},
   "outputs": [],
   "source": []
  },
  {
   "cell_type": "code",
   "execution_count": null,
   "id": "126aa6af-f551-4cac-8f81-10ee9423d888",
   "metadata": {},
   "outputs": [],
   "source": []
  },
  {
   "cell_type": "markdown",
   "id": "b61d8513-fb39-4435-972e-3cebda3a10b4",
   "metadata": {},
   "source": [
    "### Prediction and Results"
   ]
  },
  {
   "cell_type": "code",
   "execution_count": null,
   "id": "9b931e18-6491-449b-a4f9-ce0bca144aa9",
   "metadata": {},
   "outputs": [],
   "source": []
  }
 ],
 "metadata": {
  "kernelspec": {
   "display_name": "Python [conda env:env_airbnb]",
   "language": "python",
   "name": "conda-env-env_airbnb-py"
  },
  "language_info": {
   "codemirror_mode": {
    "name": "ipython",
    "version": 3
   },
   "file_extension": ".py",
   "mimetype": "text/x-python",
   "name": "python",
   "nbconvert_exporter": "python",
   "pygments_lexer": "ipython3",
   "version": "3.8.12"
  }
 },
 "nbformat": 4,
 "nbformat_minor": 5
}
