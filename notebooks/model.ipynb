{
 "cells": [
  {
   "cell_type": "markdown",
   "id": "8e6deffe-9c9a-4a8b-8fb8-f2c2608fc4eb",
   "metadata": {},
   "source": [
    "# Fake News Classifier"
   ]
  },
  {
   "cell_type": "markdown",
   "id": "8729962c-4ce7-47d5-9c43-44f06b367537",
   "metadata": {},
   "source": [
    "### Data Reading and Interpretation"
   ]
  },
  {
   "cell_type": "markdown",
   "id": "4573692a-e238-4943-a9bc-d270a041a2f1",
   "metadata": {},
   "source": [
    "__Import Statements__"
   ]
  },
  {
   "cell_type": "code",
   "execution_count": 2,
   "id": "efc873ea-5618-4d36-804d-88a062312ede",
   "metadata": {},
   "outputs": [
    {
     "data": {
      "text/plain": [
       "RendererRegistry.enable('mimetype')"
      ]
     },
     "execution_count": 2,
     "metadata": {},
     "output_type": "execute_result"
    }
   ],
   "source": [
    "import pandas as pd\n",
    "import numpy as np\n",
    "\n",
    "import re\n",
    "import string\n",
    "import altair as alt\n",
    "\n",
    "import nltk\n",
    "\n",
    "# nltk.download('words')\n",
    "# nltk.download(\"cmudict\")\n",
    "\n",
    "from nltk import word_tokenize\n",
    "from nltk import sent_tokenize\n",
    "from nltk.stem import WordNetLemmatizer \n",
    "from nltk.stem import PorterStemmer\n",
    "from nltk import pos_tag\n",
    "from nltk.corpus import cmudict\n",
    "\n",
    "from sklearn.feature_extraction.text import TfidfVectorizer, TfidfTransformer, CountVectorizer\n",
    "\n",
    "alt.data_transformers.enable('data_server')\n",
    "alt.renderers.enable('mimetype')"
   ]
  },
  {
   "cell_type": "code",
   "execution_count": null,
   "id": "0e95dd17-6ad4-42fc-9745-a424d5690282",
   "metadata": {},
   "outputs": [],
   "source": [
    "train_df = pd.read_csv(\"../data/raw/train.csv\")"
   ]
  },
  {
   "cell_type": "code",
   "execution_count": null,
   "id": "045b1674-2854-4308-a9a5-f482a86c4525",
   "metadata": {},
   "outputs": [],
   "source": [
    "train_df.info()"
   ]
  },
  {
   "cell_type": "code",
   "execution_count": null,
   "id": "81a0b970-b262-4c08-8628-e556fc09cada",
   "metadata": {},
   "outputs": [],
   "source": []
  },
  {
   "cell_type": "code",
   "execution_count": null,
   "id": "b7cbfcdd-d0fd-461e-8d2e-5f6b8af47e2f",
   "metadata": {},
   "outputs": [],
   "source": [
    "train_df.describe(include=\"all\")"
   ]
  },
  {
   "cell_type": "code",
   "execution_count": null,
   "id": "7625a8d8-da4f-472d-937b-f692a6cc6f72",
   "metadata": {},
   "outputs": [],
   "source": []
  },
  {
   "cell_type": "code",
   "execution_count": null,
   "id": "a96f4e90-c467-4ece-893d-76f08950723f",
   "metadata": {},
   "outputs": [],
   "source": []
  },
  {
   "cell_type": "markdown",
   "id": "62673d40-7482-4569-93c4-37e77a17d212",
   "metadata": {},
   "source": [
    "### Preprocessing"
   ]
  },
  {
   "cell_type": "markdown",
   "id": "b21864ca-d191-4c20-b8f9-30500a35be98",
   "metadata": {
    "tags": []
   },
   "source": [
    "#### Author Feature"
   ]
  },
  {
   "cell_type": "code",
   "execution_count": null,
   "id": "84f575df-4fcb-4539-8833-732ac1f8732e",
   "metadata": {},
   "outputs": [],
   "source": [
    "# Create a feature \"author_is_null\"\n",
    "\n",
    "def author_is_null(x):\n",
    "    if x[\"author\"] != x[\"author\"]:\n",
    "        return 0\n",
    "    return 1\n",
    "\n",
    "train_df[\"author_is_null\"] = train_df.apply(lambda x: is_null_author(x), axis=1)"
   ]
  },
  {
   "cell_type": "code",
   "execution_count": null,
   "id": "e73ddc58-1d4a-4716-a8e3-05ccee5670d3",
   "metadata": {},
   "outputs": [],
   "source": []
  },
  {
   "cell_type": "code",
   "execution_count": null,
   "id": "b4adb788-5161-4ef8-9dc4-96fe72c0fb63",
   "metadata": {},
   "outputs": [],
   "source": [
    "# Change Author = Null to Author = \"Unknown\"\n",
    "\n",
    "unknown_authors_ids = train_df.query(\"author.isnull()\")[\"id\"]\n",
    "train_df[updated_author_column_name] = np.where(~train_df['id'].isin(unknown_authors_ids), train_df['author'], 'Unknown')"
   ]
  },
  {
   "cell_type": "code",
   "execution_count": null,
   "id": "4dd0fe34-705e-4b25-ae4b-1cbbf1d9edf2",
   "metadata": {},
   "outputs": [],
   "source": []
  },
  {
   "cell_type": "code",
   "execution_count": null,
   "id": "49fe8d1a-9152-4587-8d89-cf5fc47947a1",
   "metadata": {},
   "outputs": [],
   "source": [
    "# Others category if value_counts of an author is less than 5\n",
    "\n",
    "less_frequent = train_df['author'].value_counts()[train_df['author'].value_counts() <= 5].index.tolist()\n",
    "train_df['author'] = np.where(train_df['author'].isin(less_frequent), 'Other', train_df['author'])"
   ]
  },
  {
   "cell_type": "code",
   "execution_count": null,
   "id": "a102e3fc-7242-4fd8-9ad9-bd4e8f0debfc",
   "metadata": {},
   "outputs": [],
   "source": []
  },
  {
   "cell_type": "code",
   "execution_count": null,
   "id": "c140a1dc-f0c3-4b85-bd98-83d9c22fea14",
   "metadata": {},
   "outputs": [],
   "source": [
    "# Create if \"is_multiple_authors\"\n",
    "\n",
    "def is_multiple_authors(data):\n",
    "\n",
    "    data[\"is_multiple_authors\"] = [\n",
    "        1 if \" and \" in str(author) else 0 for author in data[\"author\"]\n",
    "    ]\n",
    "\n",
    "    return data\n",
    "\n",
    "\n",
    "train_df = is_multiple_authors(train_df)\n",
    "\n",
    "train_df.query(\"is_multiple_authors == 1\")[\"label\"].value_counts()"
   ]
  },
  {
   "cell_type": "code",
   "execution_count": null,
   "id": "c63c1ba8-e549-4e56-85b8-10e30814fe71",
   "metadata": {},
   "outputs": [],
   "source": []
  },
  {
   "cell_type": "code",
   "execution_count": null,
   "id": "69dd2ba6-3e63-4f63-b1e1-cc52a3f996c5",
   "metadata": {
    "tags": []
   },
   "outputs": [],
   "source": [
    "# Check if author name contains a domain suffix\n",
    "\n",
    "def author_contains_domain(data):\n",
    "\n",
    "    data[\"author_contains_domain\"] = [\n",
    "        1 if re.search(r\"\\.[a-zA-Z]{3}\", str(author)) else 0 for author in train_df[\"author\"]\n",
    "    ]\n",
    "\n",
    "    return data\n",
    "\n",
    "\n",
    "train_df = author_contains_domain(train_df)\n",
    "\n",
    "train_df.query(\"author_contains_domain == 1\")[\"label\"].value_counts()"
   ]
  },
  {
   "cell_type": "code",
   "execution_count": null,
   "id": "5731aee0-121c-44ec-b2b1-aedf8e93351b",
   "metadata": {},
   "outputs": [],
   "source": []
  },
  {
   "cell_type": "markdown",
   "id": "91d952f0-399b-4f62-b625-0fd472b077b9",
   "metadata": {},
   "source": [
    "#### Title Feature"
   ]
  },
  {
   "cell_type": "code",
   "execution_count": null,
   "id": "ad63ecf1-b40f-48e8-a97a-d1ed391c143c",
   "metadata": {},
   "outputs": [],
   "source": [
    "# Check if title is null\n",
    "\n",
    "def is_title_null(data):\n",
    "\n",
    "    data[\"is_title_null\"] = [\n",
    "        0 if title == title\n",
    "        else 1 for title in train_df[\"title\"]\n",
    "    ]\n",
    "\n",
    "    return data\n",
    "\n",
    "\n",
    "train_df = is_title_null(train_df)\n",
    "\n",
    "train_df.query(\"is_title_null == 1\")[\"label\"].value_counts()"
   ]
  },
  {
   "cell_type": "code",
   "execution_count": null,
   "id": "eb2c143d-dda3-4f3b-8fb4-4b5cd625d219",
   "metadata": {},
   "outputs": [],
   "source": []
  },
  {
   "cell_type": "code",
   "execution_count": null,
   "id": "85295f28-54d8-4ec9-852c-8d27fcbccfa6",
   "metadata": {},
   "outputs": [],
   "source": [
    "# Check if title ends with a famous journal name\n",
    "\n",
    "def title_contains_famous_journal(data):\n",
    "\n",
    "    data[\"title_contains_famous_journal\"] = [\n",
    "        1 if\n",
    "        str(title).endswith(\"The New York Times\") or\n",
    "        str(title).endswith(\"Breitbart\")\n",
    "        else 0 for title in train_df[\"title\"]\n",
    "    ]\n",
    "\n",
    "    return data\n",
    "\n",
    "\n",
    "train_df = title_contains_famous_journal(train_df)\n",
    "\n",
    "train_df.query(\"title_contains_famous_journal == 1\")[\"label\"].value_counts()"
   ]
  },
  {
   "cell_type": "code",
   "execution_count": null,
   "id": "e30be091-622d-4155-9e8a-dd606727d2a3",
   "metadata": {},
   "outputs": [],
   "source": []
  },
  {
   "cell_type": "code",
   "execution_count": null,
   "id": "44fa58a3-237e-4dda-a643-1e4181c525d7",
   "metadata": {},
   "outputs": [],
   "source": [
    "def no_of_words(data):\n",
    "\n",
    "    data[\"no_of_words\"] = [\n",
    "        len(str(title).split(\" \")) for title in train_df[\"title\"]\n",
    "    ]\n",
    "\n",
    "    return data\n",
    "\n",
    "\n",
    "train_df = no_of_words(train_df)"
   ]
  },
  {
   "cell_type": "code",
   "execution_count": null,
   "id": "fffae63b-4e57-4613-9706-ba19836f64e9",
   "metadata": {},
   "outputs": [],
   "source": [
    "# alt.Chart(train_df).mark_bar().encode(\n",
    "#     alt.X(\"no_of_words\", bin=alt.Bin(maxbins=50)),\n",
    "#     alt.Y(\"count()\"),\n",
    "#     color=\"label\"\n",
    "# )"
   ]
  },
  {
   "cell_type": "code",
   "execution_count": null,
   "id": "a9e4e982-53a7-4a89-9946-8db5937c4f73",
   "metadata": {},
   "outputs": [],
   "source": []
  },
  {
   "cell_type": "code",
   "execution_count": null,
   "id": "b14eef46-2d46-4871-8eaa-59fa789de226",
   "metadata": {},
   "outputs": [],
   "source": [
    "def no_of_chars(data):\n",
    "\n",
    "    data[\"no_of_chars\"] = [\n",
    "        len(str(title)) for title in train_df[\"title\"]\n",
    "    ]\n",
    "\n",
    "    return data\n",
    "\n",
    "\n",
    "train_df = no_of_chars(train_df)"
   ]
  },
  {
   "cell_type": "code",
   "execution_count": null,
   "id": "c0ba79f5-88c8-420d-a9c3-0dd4c38cbba9",
   "metadata": {},
   "outputs": [],
   "source": []
  },
  {
   "cell_type": "code",
   "execution_count": null,
   "id": "8e7a7c36-8dd0-4991-af71-99ed33a1a5bb",
   "metadata": {},
   "outputs": [],
   "source": [
    "# alt.Chart(train_df2).mark_bar().encode(\n",
    "#     alt.X(\"no_of_chars\", bin=alt.Bin(maxbins=100)),\n",
    "#     alt.Y(\"count()\"),\n",
    "#     color=\"label\"\n",
    "# )"
   ]
  },
  {
   "cell_type": "code",
   "execution_count": null,
   "id": "fd06d160-0bce-4e32-8303-f220b6c5b733",
   "metadata": {},
   "outputs": [],
   "source": []
  },
  {
   "cell_type": "code",
   "execution_count": null,
   "id": "6b55bd27-276b-4d3f-a590-e3f37b4052bf",
   "metadata": {},
   "outputs": [],
   "source": [
    "def get_text_length(text):\n",
    "    \"\"\"\n",
    "    Returns the number of words in a text without punctuations. \n",
    "    Counts clitics as separate words.\n",
    "\n",
    "    Parameters\n",
    "    ----------\n",
    "    text : str\n",
    "        A text from which we find the number of words\n",
    "\n",
    "    Returns\n",
    "    -------\n",
    "    An int which represents the number of words in the text\n",
    "    \"\"\"\n",
    "    non_punc = []\n",
    "    for word in word_tokenize(text):\n",
    "        if word not in string.punctuation:\n",
    "            non_punc.append(word)\n",
    "    return len(non_punc)"
   ]
  },
  {
   "cell_type": "code",
   "execution_count": null,
   "id": "47ad8b6a-7961-4f68-a70b-54db1f215d1b",
   "metadata": {},
   "outputs": [],
   "source": [
    "def get_lexical_density(text):\n",
    "    \"\"\"\n",
    "    Returns the lexical density of a text. That is the ratio of open class words.\n",
    "    in the text\n",
    "\n",
    "    Parameters\n",
    "    ----------\n",
    "    text : str\n",
    "        A text from which we find the lexical density\n",
    "\n",
    "    Returns\n",
    "    -------\n",
    "    A float which represents the lexical density\n",
    "    \"\"\"\n",
    "    open_class_prefix = {\"N\", \"V\", \"J\", \"R\"}\n",
    "    open_class_total = 0\n",
    "    word_count = 0\n",
    "    if len(text) == 0:\n",
    "        return float(0)\n",
    "    for word, pos in pos_tag(word_tokenize(text)):\n",
    "        if word not in string.punctuation:\n",
    "            word_count += 1\n",
    "            if pos[0] in open_class_prefix:\n",
    "                open_class_total += 1\n",
    "    return open_class_total/word_count"
   ]
  },
  {
   "cell_type": "code",
   "execution_count": null,
   "id": "ca00ffc4-b816-488b-adee-ab218d351c8c",
   "metadata": {},
   "outputs": [],
   "source": [
    "def get_pos_count(text):\n",
    "    \"\"\"\n",
    "    Counts the number of nouns, verbs and adjectives in a text.\n",
    "\n",
    "    Parameters\n",
    "    ----------\n",
    "    text : str\n",
    "        A text for which we find the number of nouns, verbs\n",
    "        and adjectives\n",
    "\n",
    "    Returns\n",
    "    -------\n",
    "    A tuple of (noun_count: int, verb_count: int, adj_count: int)\n",
    "    which represents the number of nouns, verbs adjectives in the text\n",
    "    respectively\n",
    "    \"\"\"\n",
    "    noun_count = 0\n",
    "    verb_count = 0\n",
    "    adj_count = 0\n",
    "\n",
    "    if len(text) == 0:\n",
    "        return 0, 0, 0\n",
    "\n",
    "    for word, pos in pos_tag(word_tokenize(text)):\n",
    "        if(pos[0] == 'N'):\n",
    "            noun_count += 1\n",
    "        if(pos[0] == 'V'):\n",
    "            verb_count += 1\n",
    "        if(pos == 'JJ'):\n",
    "            adj_count += 1\n",
    "    return noun_count, verb_count, adj_count"
   ]
  },
  {
   "cell_type": "code",
   "execution_count": null,
   "id": "80d4900d-4e20-4957-9588-478d7c998405",
   "metadata": {},
   "outputs": [],
   "source": [
    "def get_num_ovv_words(text):\n",
    "    \"\"\"\n",
    "    Gets the number of out-of-vocabulary words in a text.\n",
    "\n",
    "    Parameters\n",
    "    ----------\n",
    "    text : str\n",
    "        A text for which we find the number of out-of-vocabulary\n",
    "        words is to be found\n",
    "\n",
    "    Returns\n",
    "    -------\n",
    "    The number of oov words in the text\n",
    "    \"\"\"\n",
    "    text_vocab = set(w.lower() for w in text.split() if w.isalpha())\n",
    "    english_vocab = set(w.lower() for w in nltk.corpus.words.words())\n",
    "    ovv_words = text_vocab - english_vocab\n",
    "\n",
    "    return len(ovv_words)"
   ]
  },
  {
   "cell_type": "code",
   "execution_count": null,
   "id": "86e0268b-0270-484f-b640-3d2faa6d43b4",
   "metadata": {},
   "outputs": [],
   "source": [
    "def get_punctuations_count(text):\n",
    "    \"\"\"\n",
    "    Returns the number of punctuations in a text.\n",
    "\n",
    "    Parameters\n",
    "    ----------\n",
    "    text : str\n",
    "        A text for which we find the number of punctuations present\n",
    "\n",
    "    Returns\n",
    "    -------\n",
    "    punct_count: int\n",
    "                 An integer which represents the number of punctuations in the text\n",
    "    \"\"\"\n",
    "    punct_count = 0\n",
    "    if len(text) == 0:\n",
    "        return 0\n",
    "    for word in word_tokenize(text):\n",
    "        if word in string.punctuation:\n",
    "            punct_count += 1\n",
    "    return punct_count"
   ]
  },
  {
   "cell_type": "code",
   "execution_count": null,
   "id": "3521a974-c086-4686-9063-969950f8bf29",
   "metadata": {},
   "outputs": [],
   "source": []
  },
  {
   "cell_type": "code",
   "execution_count": null,
   "id": "4ef7daa4-f0ae-4e32-b466-3c67444ca97d",
   "metadata": {},
   "outputs": [],
   "source": []
  },
  {
   "cell_type": "code",
   "execution_count": null,
   "id": "3391f0a6-7108-4eae-9f5e-c9183bdfc948",
   "metadata": {},
   "outputs": [],
   "source": []
  },
  {
   "cell_type": "code",
   "execution_count": null,
   "id": "ae83272c-4b4e-4500-ae59-07a125e1c26b",
   "metadata": {},
   "outputs": [],
   "source": []
  },
  {
   "cell_type": "code",
   "execution_count": null,
   "id": "fdd7d98a-4f7b-4ea9-a009-4c392dd9f1a8",
   "metadata": {},
   "outputs": [],
   "source": []
  },
  {
   "cell_type": "code",
   "execution_count": null,
   "id": "dfb515e3-1c56-4532-8809-d94aa89b9eee",
   "metadata": {},
   "outputs": [],
   "source": []
  },
  {
   "cell_type": "code",
   "execution_count": null,
   "id": "68063d2b-4ae0-42ad-b1ef-6d02c8d804e2",
   "metadata": {},
   "outputs": [],
   "source": []
  },
  {
   "cell_type": "code",
   "execution_count": null,
   "id": "45aec3b9-6dce-499f-8f11-deb5fcb18383",
   "metadata": {},
   "outputs": [],
   "source": []
  },
  {
   "cell_type": "code",
   "execution_count": null,
   "id": "5b8710a2-6745-4b9e-9e7a-8581ef7f1bed",
   "metadata": {},
   "outputs": [],
   "source": [
    "def contains_says(data):\n",
    "\n",
    "    data[\"contains_says\"] = [\n",
    "        1 if\n",
    "        len(str(title).split(\" \")) < 6\n",
    "\n",
    "#         re.search(\"[^a-zA-Z0-9 .,:'\\\"-\\\\$()]\", str(title))\n",
    "\n",
    "#         re.search(\"[0-9]\", str(title))\n",
    "\n",
    "#         \"Says\" in str(title) or \"says\" in str(title)\n",
    "\n",
    "        else 0 for title in train_df[\"title\"]\n",
    "    ]\n",
    "\n",
    "    return data"
   ]
  },
  {
   "cell_type": "code",
   "execution_count": null,
   "id": "9d24fae8-2595-4d7b-ad47-14c1b11d7c60",
   "metadata": {},
   "outputs": [],
   "source": [
    "train_df2 = contains_says(train_df)"
   ]
  },
  {
   "cell_type": "code",
   "execution_count": null,
   "id": "3d44a5f2-1d63-47d3-b9ff-4ac938672621",
   "metadata": {},
   "outputs": [],
   "source": [
    "train_df2.query(\"contains_says == 1\")[\"label\"].value_counts()"
   ]
  },
  {
   "cell_type": "code",
   "execution_count": null,
   "id": "ab4d04c6-27d9-41ba-a45b-679d15037f86",
   "metadata": {},
   "outputs": [],
   "source": []
  },
  {
   "cell_type": "markdown",
   "id": "2cea522e-2019-43a9-aedc-9620a9d10da3",
   "metadata": {},
   "source": [
    "#### Text Feature"
   ]
  },
  {
   "cell_type": "code",
   "execution_count": null,
   "id": "4416f162-6ae2-4f3b-9b6b-0ed76d2b4aaa",
   "metadata": {},
   "outputs": [],
   "source": [
    "# # Check if text is empty\n",
    "\n",
    "def is_text_empty(data):\n",
    "\n",
    "    data[\"is_text_empty\"] = [\n",
    "        1 if text == \" \" or\n",
    "        not text == text\n",
    "        else 0 for text in train_df[\"text\"]\n",
    "    ]\n",
    "\n",
    "    return data\n",
    "# train_df.query(\"text == ' '\")[\"label\"].value_counts()"
   ]
  },
  {
   "cell_type": "code",
   "execution_count": null,
   "id": "ca65363a-61b9-42f0-ac16-2b2693450e42",
   "metadata": {},
   "outputs": [],
   "source": [
    "train_df2 = is_text_empty(train_df)"
   ]
  },
  {
   "cell_type": "code",
   "execution_count": null,
   "id": "590515b7-8e51-4dde-9dba-b44a36306abf",
   "metadata": {},
   "outputs": [],
   "source": [
    "train_df2.query(\"is_text_empty == 1\")[\"label\"].value_counts()"
   ]
  },
  {
   "cell_type": "code",
   "execution_count": null,
   "id": "c929a019-24c8-4cfe-8361-91959314846a",
   "metadata": {},
   "outputs": [],
   "source": []
  },
  {
   "cell_type": "code",
   "execution_count": null,
   "id": "853a27fc-0135-456e-bbc3-7c585b49d3d2",
   "metadata": {},
   "outputs": [],
   "source": []
  },
  {
   "cell_type": "code",
   "execution_count": null,
   "id": "533eeaff-c9e2-4916-bb96-05c0d6e0bd49",
   "metadata": {},
   "outputs": [],
   "source": []
  },
  {
   "cell_type": "markdown",
   "id": "b0b07587-233d-48c9-8db2-23fb51e55639",
   "metadata": {},
   "source": [
    "#### Feature Engineering"
   ]
  },
  {
   "cell_type": "code",
   "execution_count": null,
   "id": "7ef11645-82e2-44d1-bacd-de9e8e6ef349",
   "metadata": {},
   "outputs": [],
   "source": []
  },
  {
   "cell_type": "code",
   "execution_count": null,
   "id": "3155ba4c-8c26-4430-90de-166728124cbc",
   "metadata": {},
   "outputs": [],
   "source": []
  },
  {
   "cell_type": "code",
   "execution_count": null,
   "id": "ef2799c0-ce86-46d5-a259-38d9c6bc6864",
   "metadata": {},
   "outputs": [],
   "source": []
  },
  {
   "cell_type": "code",
   "execution_count": null,
   "id": "5763876e-e584-4865-b898-6e74f480fa56",
   "metadata": {},
   "outputs": [],
   "source": []
  },
  {
   "cell_type": "code",
   "execution_count": null,
   "id": "e3a02c45-5c70-4965-ae03-12a30fef99d3",
   "metadata": {},
   "outputs": [],
   "source": []
  },
  {
   "cell_type": "markdown",
   "id": "b1d0bb81-ac6d-4ec7-9728-0de219a97db0",
   "metadata": {},
   "source": [
    "### Modelling"
   ]
  },
  {
   "cell_type": "code",
   "execution_count": null,
   "id": "78769ca3-1670-4808-83fa-02fdd48362ed",
   "metadata": {},
   "outputs": [],
   "source": []
  },
  {
   "cell_type": "code",
   "execution_count": null,
   "id": "49c042eb-d700-4b2b-bf52-10374e952650",
   "metadata": {},
   "outputs": [],
   "source": []
  },
  {
   "cell_type": "code",
   "execution_count": null,
   "id": "2a022c04-a208-4f51-8740-727183df048d",
   "metadata": {},
   "outputs": [],
   "source": []
  },
  {
   "cell_type": "code",
   "execution_count": null,
   "id": "1a3f7388-df84-4fb8-ad7a-a8200c369046",
   "metadata": {},
   "outputs": [],
   "source": []
  },
  {
   "cell_type": "code",
   "execution_count": null,
   "id": "ce2f7fda-3dba-41c2-beb3-f41c24d981d2",
   "metadata": {},
   "outputs": [],
   "source": []
  },
  {
   "cell_type": "code",
   "execution_count": null,
   "id": "55c17a2b-7890-4a36-8ab4-f6b4c2d00e07",
   "metadata": {},
   "outputs": [],
   "source": []
  },
  {
   "cell_type": "code",
   "execution_count": null,
   "id": "29343fa9-e3b0-4b47-b390-86454d81a3b4",
   "metadata": {},
   "outputs": [],
   "source": []
  },
  {
   "cell_type": "code",
   "execution_count": null,
   "id": "126aa6af-f551-4cac-8f81-10ee9423d888",
   "metadata": {},
   "outputs": [],
   "source": []
  },
  {
   "cell_type": "markdown",
   "id": "b61d8513-fb39-4435-972e-3cebda3a10b4",
   "metadata": {},
   "source": [
    "### Prediction and Results"
   ]
  },
  {
   "cell_type": "code",
   "execution_count": null,
   "id": "9b931e18-6491-449b-a4f9-ce0bca144aa9",
   "metadata": {},
   "outputs": [],
   "source": []
  }
 ],
 "metadata": {
  "kernelspec": {
   "display_name": "Python [conda env:env_fake-news]",
   "language": "python",
   "name": "conda-env-env_fake-news-py"
  },
  "language_info": {
   "codemirror_mode": {
    "name": "ipython",
    "version": 3
   },
   "file_extension": ".py",
   "mimetype": "text/x-python",
   "name": "python",
   "nbconvert_exporter": "python",
   "pygments_lexer": "ipython3",
   "version": "3.10.1"
  }
 },
 "nbformat": 4,
 "nbformat_minor": 5
}
